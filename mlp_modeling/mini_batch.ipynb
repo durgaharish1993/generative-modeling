{
 "cells": [
  {
   "cell_type": "code",
   "execution_count": 1,
   "metadata": {},
   "outputs": [
    {
     "name": "stdout",
     "output_type": "stream",
     "text": [
      "['emma', 'olivia', 'ava', 'isabella', 'sophia', 'charlotte', 'mia', 'amelia']\n",
      "32033\n"
     ]
    }
   ],
   "source": [
    "import torch \n",
    "import torch.nn.functional as F\n",
    "import matplotlib.pyplot as plt \n",
    "\n",
    "words = open('data/names.txt', 'r').read().splitlines()\n",
    "print(words[:8])\n",
    "print(len(words))\n",
    "\n",
    "list_words = sorted(list(set(''.join(words))))\n",
    "\n",
    "stoi =  {s:i+1 for i,s in enumerate(list_words)}\n",
    "stoi['.'] = 0 \n",
    "itos = {i:s for i , s in stoi.items()}\n"
   ]
  },
  {
   "cell_type": "code",
   "execution_count": 2,
   "metadata": {},
   "outputs": [],
   "source": [
    "block_size = 3\n",
    "\n",
    "def build_dataset(words):\n",
    "    X , Y = [], []\n",
    "    for w in words:\n",
    "        context = [0] *block_size\n",
    "        for ch in w + '.':\n",
    "            xi = stoi[ch]\n",
    "            X.append(context)\n",
    "            Y.append(xi)\n",
    "            context = context[1:] + [xi]\n",
    "    \n",
    "    X = torch.tensor(X)\n",
    "    Y = torch.tensor(Y)\n",
    "    print(X.shape, Y.shape)\n",
    "    return X, Y "
   ]
  },
  {
   "cell_type": "code",
   "execution_count": 3,
   "metadata": {},
   "outputs": [],
   "source": [
    "import random \n",
    "random.shuffle(words)\n",
    "n1 = int(0.8 * len(words))\n",
    "n2 = int(0.9 * len(words))\n"
   ]
  },
  {
   "cell_type": "code",
   "execution_count": 4,
   "metadata": {},
   "outputs": [
    {
     "name": "stdout",
     "output_type": "stream",
     "text": [
      "train dataset - 25626, validataion dataset - 3203\n",
      "torch.Size([182590, 3]) torch.Size([182590])\n",
      "torch.Size([22775, 3]) torch.Size([22775])\n",
      "torch.Size([22781, 3]) torch.Size([22781])\n"
     ]
    }
   ],
   "source": [
    "\n",
    "print(f\"train dataset - {n1}, validataion dataset - {n2-n1}\")\n",
    "Xtr, Ytr = build_dataset(words[:n1])\n",
    "Xdev, Ydev = build_dataset(words[n1:n2])\n",
    "Xte, Yte = build_dataset(words[n2:])"
   ]
  },
  {
   "cell_type": "code",
   "execution_count": 5,
   "metadata": {},
   "outputs": [
    {
     "name": "stdout",
     "output_type": "stream",
     "text": [
      "Number of paramerters: 11897\n"
     ]
    }
   ],
   "source": [
    "\n",
    "#model architecture \n",
    "\n",
    "block_size = 3\n",
    "embedding_dim = 10\n",
    "w1_neurons = 200\n",
    "\n",
    "g = torch.Generator().manual_seed(2147483647)\n",
    "C = torch.randn((27,embedding_dim  ),generator=g)\n",
    "W1 = torch.randn((embedding_dim * block_size,w1_neurons),generator=g)\n",
    "b1 = torch.randn(w1_neurons, generator=g)\n",
    "\n",
    "W2 = torch.randn((w1_neurons,27), generator = g )\n",
    "b2 = torch.randn(27,generator =g)\n",
    "\n",
    "parameters = [C,W1, b1,W2,b2]\n",
    "\n",
    "for p in parameters:\n",
    "    p.requires_grad = True\n",
    "\n",
    "\n",
    "#number of paramerters \n",
    "number_of_paramerters = sum(p.nelement() for p in parameters)\n",
    "print(f\"Number of paramerters: {number_of_paramerters}\")\n"
   ]
  },
  {
   "cell_type": "markdown",
   "metadata": {},
   "source": [
    "# 1. Random Mini Batch"
   ]
  },
  {
   "cell_type": "code",
   "execution_count": 6,
   "metadata": {},
   "outputs": [
    {
     "name": "stdout",
     "output_type": "stream",
     "text": [
      "tensor(20.0099, grad_fn=<NllLossBackward0>)\n"
     ]
    }
   ],
   "source": [
    "for i in range(200000):\n",
    "    ix = torch.randint(0,Xtr.shape[0],(32,))\n",
    "\n",
    "    emb = C[Xtr[ix]]\n",
    "    h = torch.tanh(emb.view(-1,30) @ W1 + b1)\n",
    "    logits = h @ W2 + b2\n",
    "    loss = F.cross_entropy(logits,Ytr[ix])\n",
    "\n",
    "    for p in parameters:\n",
    "        p.grad = None \n",
    "    loss.backward()\n",
    "\n",
    "    p.data += -0.1 * p.grad\n",
    "\n",
    "print(loss)\n",
    "    \n"
   ]
  },
  {
   "cell_type": "markdown",
   "metadata": {},
   "source": [
    "# 2. Sequential Sampling"
   ]
  },
  {
   "cell_type": "code",
   "execution_count": 7,
   "metadata": {},
   "outputs": [
    {
     "name": "stdout",
     "output_type": "stream",
     "text": [
      "tensor(21.5919, grad_fn=<NllLossBackward0>)\n",
      "tensor(21.5911, grad_fn=<NllLossBackward0>)\n",
      "tensor(21.5910, grad_fn=<NllLossBackward0>)\n",
      "tensor(21.5909, grad_fn=<NllLossBackward0>)\n",
      "tensor(21.5909, grad_fn=<NllLossBackward0>)\n",
      "tensor(21.5909, grad_fn=<NllLossBackward0>)\n",
      "tensor(21.5908, grad_fn=<NllLossBackward0>)\n",
      "tensor(21.5908, grad_fn=<NllLossBackward0>)\n",
      "tensor(21.5908, grad_fn=<NllLossBackward0>)\n",
      "tensor(21.5908, grad_fn=<NllLossBackward0>)\n"
     ]
    }
   ],
   "source": [
    "batch_size = 32\n",
    "for _ in range(10):\n",
    "    for i in range(0, Xtr.shape[0], batch_size):\n",
    "        ix = torch.arange(i, min(i + batch_size, Xtr.shape[0]))\n",
    "\n",
    "        emb = C[Xtr[ix]]\n",
    "        h = torch.tanh(emb.view(-1, 30) @ W1 + b1)\n",
    "        logits = h @ W2 + b2\n",
    "        loss = F.cross_entropy(logits, Ytr[ix])\n",
    "\n",
    "        for p in parameters:\n",
    "            p.grad = None\n",
    "        loss.backward()\n",
    "\n",
    "        p.data += -0.1 * p.grad\n",
    "\n",
    "    print(loss)\n"
   ]
  },
  {
   "cell_type": "markdown",
   "metadata": {},
   "source": [
    "# 3. Curriculum Learning"
   ]
  },
  {
   "cell_type": "code",
   "execution_count": 8,
   "metadata": {},
   "outputs": [
    {
     "name": "stdout",
     "output_type": "stream",
     "text": [
      "tensor(18.8380, grad_fn=<NllLossBackward0>)\n",
      "tensor(22.8129, grad_fn=<NllLossBackward0>)\n",
      "tensor(19.7566, grad_fn=<NllLossBackward0>)\n",
      "tensor(17.9392, grad_fn=<NllLossBackward0>)\n",
      "tensor(24.6213, grad_fn=<NllLossBackward0>)\n",
      "tensor(22.0555, grad_fn=<NllLossBackward0>)\n",
      "tensor(17.3176, grad_fn=<NllLossBackward0>)\n",
      "tensor(18.2183, grad_fn=<NllLossBackward0>)\n",
      "tensor(18.2400, grad_fn=<NllLossBackward0>)\n",
      "tensor(17.1507, grad_fn=<NllLossBackward0>)\n"
     ]
    }
   ],
   "source": [
    "# Example: Sort indices by a predefined difficulty (e.g., loss value)\n",
    "for _ in range(10):\n",
    "    difficulty = torch.rand(Xtr.shape[0])  # Replace with actual metric\n",
    "    sorted_indices = torch.argsort(difficulty)\n",
    "\n",
    "    batch_size = 32\n",
    "    for i in range(0, Xtr.shape[0], batch_size):\n",
    "        ix = sorted_indices[i:i + batch_size]\n",
    "\n",
    "        emb = C[Xtr[ix]]\n",
    "        h = torch.tanh(emb.view(-1, 30) @ W1 + b1)\n",
    "        logits = h @ W2 + b2\n",
    "        loss = F.cross_entropy(logits, Ytr[ix])\n",
    "\n",
    "        for p in parameters:\n",
    "            p.grad = None\n",
    "        loss.backward()\n",
    "\n",
    "        p.data += -0.1 * p.grad\n",
    "\n",
    "    print(loss)\n"
   ]
  },
  {
   "cell_type": "markdown",
   "metadata": {},
   "source": [
    "# 4. Balanced Sampling "
   ]
  },
  {
   "cell_type": "code",
   "execution_count": 9,
   "metadata": {},
   "outputs": [
    {
     "name": "stdout",
     "output_type": "stream",
     "text": [
      "tensor(19.2795, grad_fn=<NllLossBackward0>)\n",
      "tensor(25.0091, grad_fn=<NllLossBackward0>)\n",
      "tensor(25.2921, grad_fn=<NllLossBackward0>)\n",
      "tensor(24.2747, grad_fn=<NllLossBackward0>)\n",
      "tensor(18.7885, grad_fn=<NllLossBackward0>)\n",
      "tensor(24.0624, grad_fn=<NllLossBackward0>)\n",
      "tensor(25.0910, grad_fn=<NllLossBackward0>)\n",
      "tensor(25.0412, grad_fn=<NllLossBackward0>)\n",
      "tensor(27.1798, grad_fn=<NllLossBackward0>)\n",
      "tensor(22.0716, grad_fn=<NllLossBackward0>)\n"
     ]
    }
   ],
   "source": [
    "from torch.utils.data import DataLoader, WeightedRandomSampler\n",
    "\n",
    "for _ in range(10):\n",
    "    class_counts = torch.bincount(Ytr)\n",
    "    class_weights = 1.0 / class_counts\n",
    "    sample_weights = class_weights[Ytr]\n",
    "\n",
    "    sampler = WeightedRandomSampler(weights=sample_weights, num_samples=batch_size, replacement=True)\n",
    "    dataloader = DataLoader(torch.arange(Xtr.shape[0]), batch_size=batch_size, sampler=sampler)\n",
    "\n",
    "    for ix in dataloader:\n",
    "        emb = C[Xtr[ix]]\n",
    "        h = torch.tanh(emb.view(-1, 30) @ W1 + b1)\n",
    "        logits = h @ W2 + b2\n",
    "        loss = F.cross_entropy(logits, Ytr[ix])\n",
    "\n",
    "        for p in parameters:\n",
    "            p.grad = None\n",
    "        loss.backward()\n",
    "\n",
    "        p.data += -0.1 * p.grad\n",
    "\n",
    "    print(loss)\n"
   ]
  },
  {
   "cell_type": "markdown",
   "metadata": {},
   "source": [
    "# 5. Clustered Mini-Batching\n"
   ]
  },
  {
   "cell_type": "code",
   "execution_count": 18,
   "metadata": {},
   "outputs": [
    {
     "ename": "SyntaxError",
     "evalue": "invalid syntax (2420053499.py, line 1)",
     "output_type": "error",
     "traceback": [
      "\u001b[0;36m  Cell \u001b[0;32mIn[18], line 1\u001b[0;36m\u001b[0m\n\u001b[0;31m    from scikit-learn.cluster import KMeans\u001b[0m\n\u001b[0m               ^\u001b[0m\n\u001b[0;31mSyntaxError\u001b[0m\u001b[0;31m:\u001b[0m invalid syntax\n"
     ]
    }
   ],
   "source": [
    "from scikit-learn.cluster import KMeans\n",
    "\n",
    "# Cluster data into `k` groups\n",
    "k = 10\n",
    "kmeans = KMeans(n_clusters=k).fit(Xtr)\n",
    "clusters = kmeans.labels_\n",
    "\n",
    "batch_size = 32\n",
    "for cluster_id in range(k):\n",
    "    cluster_indices = torch.where(torch.tensor(clusters) == cluster_id)[0]\n",
    "    for i in range(0, len(cluster_indices), batch_size):\n",
    "        ix = cluster_indices[i:i + batch_size]\n",
    "\n",
    "        emb = C[Xtr[ix]]\n",
    "        h = torch.tanh(emb.view(-1, 30) @ W1 + b1)\n",
    "        logits = h @ W2 + b2\n",
    "        loss = F.cross_entropy(logits, Ytr[ix])\n",
    "\n",
    "        for p in parameters:\n",
    "            p.grad = None\n",
    "        loss.backward()\n",
    "\n",
    "        p.data += -0.1 * p.grad\n",
    "\n",
    "print(loss)\n"
   ]
  },
  {
   "cell_type": "code",
   "execution_count": null,
   "metadata": {},
   "outputs": [],
   "source": []
  },
  {
   "cell_type": "code",
   "execution_count": 19,
   "metadata": {},
   "outputs": [
    {
     "name": "stdout",
     "output_type": "stream",
     "text": [
      "+-------------------------+-------------------------------------------------------------------------------------------+--------------+---------------------------------------------+--------------------------------------+--------------------------------------+\n",
      "| Type                    | Description                                                                               | Randomness   | Use Case                                    | Pros                                 | Cons                                 |\n",
      "+=========================+===========================================================================================+==============+=============================================+======================================+======================================+\n",
      "| Random Sampling         | Randomly selects samples from the training data to form mini-batches                      | High         | General, large datasets                     | Improves generalization, avoids bias | Gradient fluctuations                |\n",
      "+-------------------------+-------------------------------------------------------------------------------------------+--------------+---------------------------------------------+--------------------------------------+--------------------------------------+\n",
      "| Sequential Sampling     | Selects samples in order from the training data                                           | None         | Time-series, ordered data                   | Simpler implementation               | Overfitting, less generalization     |\n",
      "+-------------------------+-------------------------------------------------------------------------------------------+--------------+---------------------------------------------+--------------------------------------+--------------------------------------+\n",
      "| Stratified Sampling     | Ensures each mini-batch contains samples from all classes, maintaining class distribution | Moderate     | Imbalanced datasets                         | Maintains class balance              | Higher computational cost            |\n",
      "+-------------------------+-------------------------------------------------------------------------------------------+--------------+---------------------------------------------+--------------------------------------+--------------------------------------+\n",
      "| Adaptive Mini-Batching  | Dynamically adjusts mini-batch composition based on model performance                     | Dynamic      | Focus on harder examples                    | Faster convergence                   | More computational overhead          |\n",
      "+-------------------------+-------------------------------------------------------------------------------------------+--------------+---------------------------------------------+--------------------------------------+--------------------------------------+\n",
      "| Clustered Mini-Batching | Groups similar samples together in mini-batches                                           | None         | Naturally clustered data                    | Improves clustering tasks            | Requires clustering pre-process      |\n",
      "+-------------------------+-------------------------------------------------------------------------------------------+--------------+---------------------------------------------+--------------------------------------+--------------------------------------+\n",
      "| Curriculum Learning     | Progressively increases the difficulty of samples in mini-batches                         | Progressive  | Complex tasks                               | Faster, stable learning              | Defining difficulty is task-specific |\n",
      "+-------------------------+-------------------------------------------------------------------------------------------+--------------+---------------------------------------------+--------------------------------------+--------------------------------------+\n",
      "| Balanced Mini-Batching  | Ensures equal representation of all classes in each mini-batch                            | Moderate     | Tasks needing balance in features or labels | Reduces bias, faster convergence     | Higher computation for balance       |\n",
      "+-------------------------+-------------------------------------------------------------------------------------------+--------------+---------------------------------------------+--------------------------------------+--------------------------------------+\n",
      "| Streaming Mini-Batching | Processes data in real-time as it becomes available                                       | Dynamic      | Real-time or large datasets                 | Handles large data                   | Sensitive to data drift              |\n",
      "+-------------------------+-------------------------------------------------------------------------------------------+--------------+---------------------------------------------+--------------------------------------+--------------------------------------+\n"
     ]
    }
   ],
   "source": [
    "from tabulate import tabulate\n",
    "\n",
    "data = [\n",
    "    [\"Random Sampling\", \"Randomly selects samples from the training data to form mini-batches\", \"High\", \"General, large datasets\", \"Improves generalization, avoids bias\", \"Gradient fluctuations\"],\n",
    "    [\"Sequential Sampling\", \"Selects samples in order from the training data\", \"None\", \"Time-series, ordered data\", \"Simpler implementation\", \"Overfitting, less generalization\"],\n",
    "    [\"Stratified Sampling\", \"Ensures each mini-batch contains samples from all classes, maintaining class distribution\", \"Moderate\", \"Imbalanced datasets\", \"Maintains class balance\", \"Higher computational cost\"],\n",
    "    [\"Adaptive Mini-Batching\", \"Dynamically adjusts mini-batch composition based on model performance\", \"Dynamic\", \"Focus on harder examples\", \"Faster convergence\", \"More computational overhead\"],\n",
    "    [\"Clustered Mini-Batching\", \"Groups similar samples together in mini-batches\", \"None\", \"Naturally clustered data\", \"Improves clustering tasks\", \"Requires clustering pre-process\"],\n",
    "    [\"Curriculum Learning\", \"Progressively increases the difficulty of samples in mini-batches\", \"Progressive\", \"Complex tasks\", \"Faster, stable learning\", \"Defining difficulty is task-specific\"],\n",
    "    [\"Balanced Mini-Batching\", \"Ensures equal representation of all classes in each mini-batch\", \"Moderate\", \"Tasks needing balance in features or labels\", \"Reduces bias, faster convergence\", \"Higher computation for balance\"],\n",
    "    [\"Streaming Mini-Batching\", \"Processes data in real-time as it becomes available\", \"Dynamic\", \"Real-time or large datasets\", \"Handles large data\", \"Sensitive to data drift\"]\n",
    "]\n",
    "\n",
    "headers = [\"Type\", \"Description\", \"Randomness\", \"Use Case\", \"Pros\", \"Cons\"]\n",
    "\n",
    "print(tabulate(data, headers=headers, tablefmt=\"grid\"))"
   ]
  },
  {
   "cell_type": "code",
   "execution_count": null,
   "metadata": {},
   "outputs": [],
   "source": []
  },
  {
   "cell_type": "code",
   "execution_count": null,
   "metadata": {},
   "outputs": [],
   "source": []
  },
  {
   "cell_type": "code",
   "execution_count": null,
   "metadata": {},
   "outputs": [],
   "source": []
  }
 ],
 "metadata": {
  "kernelspec": {
   "display_name": "Python 3",
   "language": "python",
   "name": "python3"
  },
  "language_info": {
   "codemirror_mode": {
    "name": "ipython",
    "version": 3
   },
   "file_extension": ".py",
   "mimetype": "text/x-python",
   "name": "python",
   "nbconvert_exporter": "python",
   "pygments_lexer": "ipython3",
   "version": "3.12.2"
  }
 },
 "nbformat": 4,
 "nbformat_minor": 2
}
