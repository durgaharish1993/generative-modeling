{
 "cells": [
  {
   "cell_type": "code",
   "execution_count": 50,
   "metadata": {},
   "outputs": [],
   "source": [
    "import torch \n",
    "import numpy as np "
   ]
  },
  {
   "cell_type": "code",
   "execution_count": 41,
   "metadata": {},
   "outputs": [],
   "source": []
  },
  {
   "cell_type": "code",
   "execution_count": 51,
   "metadata": {},
   "outputs": [],
   "source": [
    "import itertools\n",
    "\n",
    "np.random.seed(42)\n",
    "\n",
    "\n",
    "def generate_parameters(len_x):\n",
    "    # k -> 2^(k-1) \n",
    "    elements = [0,1]\n",
    "  \n",
    "\n",
    "    dict_parameters = { \"x1\": {() : np.random.uniform(low=0.0, high=1.0, size=None)}}\n",
    "    for k in range(2, len_x+1):\n",
    "        permutations = list(itertools.product(elements, repeat=k-1))\n",
    "        dict_parameters[\"x\"+str(k)] = {}\n",
    "        for j in range(len(permutations)):\n",
    "             dict_parameters[\"x\"+str(k)][permutations[j]] = np.random.uniform(low=0.0, high=1.0, size=None)\n",
    "\n",
    "    return dict_parameters\n",
    "\n",
    "import itertools\n",
    "\n",
    "\n",
    "\n",
    "def generate_markov_parameters(len_x):\n",
    "    # k -> 2^(k-1)\n",
    "    # k -> 2k -1  \n",
    "    elements = [0,1]\n",
    "    dict_parameters = { \"x1\": {() : 0.2}}\n",
    "    for k in range(2, len_x+1):\n",
    "        permutations = list(itertools.product(elements, repeat=k-1))\n",
    "        dict_parameters[\"x\"+str(k)] = {}\n",
    "        for j in range(len(permutations)):\n",
    "             dict_parameters[\"x\"+str(k)][permutations[j]] = 0.2\n",
    "\n",
    "    return dict_parameters\n",
    "    \n",
    "    "
   ]
  },
  {
   "cell_type": "code",
   "execution_count": 152,
   "metadata": {},
   "outputs": [],
   "source": [
    "len_x = 4\n",
    "parameters = generate_parameters(len_x)"
   ]
  },
  {
   "cell_type": "code",
   "execution_count": 153,
   "metadata": {},
   "outputs": [
    {
     "data": {
      "text/plain": [
       "{'x1': {(): 0.8895964631361936},\n",
       " 'x2': {(0,): 0.6963612669164726, (1,): 0.8986563837544456},\n",
       " 'x3': {(0, 0): 0.7091369915594256,\n",
       "  (0, 1): 0.9709921485238141,\n",
       "  (1, 0): 0.6357367782552691,\n",
       "  (1, 1): 0.9635501381630547},\n",
       " 'x4': {(0, 0, 0): 0.15816989040942608,\n",
       "  (0, 0, 1): 0.05247768082940385,\n",
       "  (0, 1, 0): 0.5791251852038592,\n",
       "  (0, 1, 1): 0.9834932057997748,\n",
       "  (1, 0, 0): 0.4176052473023968,\n",
       "  (1, 0, 1): 0.2120433621929596,\n",
       "  (1, 1, 0): 0.521541449193514,\n",
       "  (1, 1, 1): 0.6487986245788886}}"
      ]
     },
     "execution_count": 153,
     "metadata": {},
     "output_type": "execute_result"
    }
   ],
   "source": [
    "parameters"
   ]
  },
  {
   "cell_type": "code",
   "execution_count": 154,
   "metadata": {},
   "outputs": [],
   "source": [
    "def generate_sample():\n",
    "    list_sample = []\n",
    "    for i in range(1, len_x+1):\n",
    "        p = parameters[\"x\"+str(i)][tuple(list_sample)]\n",
    "         \n",
    "        sample = np.random.binomial(n=1, p=p)\n",
    "        list_sample +=[int(sample)]\n",
    "    return list_sample\n",
    "\n",
    "#generate prob \n",
    "def generate_prob_sample():\n",
    "    list_sample = []\n",
    "    prob = []\n",
    "    for i in range(1, len_x+1):\n",
    "        p = parameters[\"x\"+str(i)][tuple(list_sample)]\n",
    "        sample = np.random.binomial(n=1, p=p)\n",
    "        \n",
    "        if sample == 0:\n",
    "            p = 1-p\n",
    "            prob += [float(p)]\n",
    "        else:\n",
    "            prob += [float(p)]\n",
    "        #print(\"sample\",sample)\n",
    "        list_sample +=[int(sample)]\n",
    "    return prob, list_sample\n"
   ]
  },
  {
   "cell_type": "code",
   "execution_count": 155,
   "metadata": {},
   "outputs": [
    {
     "name": "stdout",
     "output_type": "stream",
     "text": [
      "+++++++++++++++++++++++++++++++++\n",
      "[1, 1, 0, 0] 0.013942\n",
      "[1, 1, 1, 1] 0.499771\n",
      "[1, 1, 1, 0] 0.270531\n",
      "[0, 1, 0, 0] 0.000939\n",
      "[1, 1, 1, 1] 0.499771\n",
      "[1, 1, 1, 1] 0.499771\n",
      "[1, 1, 1, 1] 0.499771\n",
      "[1, 1, 1, 1] 0.499771\n",
      "[1, 1, 1, 1] 0.499771\n",
      "[1, 1, 1, 0] 0.270531\n",
      "[1, 0, 1, 0] 0.045162\n",
      "[1, 1, 1, 1] 0.499771\n",
      "[1, 1, 1, 1] 0.499771\n",
      "[0, 0, 1, 0] 0.022525\n",
      "[1, 1, 1, 1] 0.499771\n",
      "[1, 1, 1, 0] 0.270531\n",
      "[1, 1, 1, 1] 0.499771\n",
      "[1, 0, 0, 1] 0.013714\n",
      "[1, 1, 0, 1] 0.015197\n",
      "[1, 1, 1, 1] 0.499771\n",
      "[1, 0, 1, 0] 0.045162\n",
      "[1, 1, 1, 1] 0.499771\n",
      "[1, 1, 1, 1] 0.499771\n",
      "[1, 1, 1, 1] 0.499771\n",
      "[1, 1, 1, 0] 0.270531\n",
      "[1, 1, 1, 1] 0.499771\n",
      "[0, 0, 0, 0] 0.008208\n",
      "[1, 1, 1, 0] 0.270531\n",
      "[1, 1, 1, 1] 0.499771\n",
      "[1, 1, 1, 1] 0.499771\n",
      "[1, 0, 0, 1] 0.013714\n",
      "[1, 1, 1, 0] 0.270531\n",
      "[1, 1, 1, 1] 0.499771\n",
      "[1, 1, 1, 1] 0.499771\n",
      "[1, 1, 1, 0] 0.270531\n",
      "[1, 1, 1, 1] 0.499771\n",
      "[1, 1, 1, 1] 0.499771\n",
      "[1, 1, 1, 1] 0.499771\n",
      "[1, 1, 1, 1] 0.499771\n",
      "[1, 1, 1, 0] 0.270531\n",
      "[0, 1, 1, 1] 0.073418\n",
      "[1, 1, 1, 0] 0.270531\n",
      "[1, 0, 0, 0] 0.019126\n",
      "[1, 1, 1, 0] 0.270531\n",
      "[1, 1, 1, 1] 0.499771\n",
      "[1, 1, 1, 0] 0.270531\n",
      "[1, 1, 1, 1] 0.499771\n",
      "[1, 1, 1, 1] 0.499771\n",
      "[0, 1, 1, 1] 0.073418\n",
      "[0, 0, 0, 0] 0.008208\n",
      "[1, 1, 1, 0] 0.270531\n",
      "[0, 1, 1, 1] 0.073418\n",
      "[1, 1, 1, 1] 0.499771\n",
      "[1, 1, 1, 0] 0.270531\n",
      "[1, 1, 1, 1] 0.499771\n",
      "[1, 1, 1, 0] 0.270531\n",
      "[1, 1, 1, 1] 0.499771\n",
      "[1, 1, 1, 1] 0.499771\n",
      "[1, 1, 1, 0] 0.270531\n",
      "[1, 1, 1, 1] 0.499771\n",
      "[1, 1, 1, 1] 0.499771\n",
      "[1, 1, 1, 0] 0.270531\n",
      "[1, 1, 1, 1] 0.499771\n",
      "[1, 1, 1, 1] 0.499771\n",
      "[0, 0, 0, 0] 0.008208\n",
      "[1, 1, 1, 1] 0.499771\n",
      "[1, 1, 1, 1] 0.499771\n",
      "[1, 1, 1, 0] 0.270531\n",
      "[1, 1, 1, 1] 0.499771\n",
      "[1, 1, 1, 0] 0.270531\n",
      "[1, 1, 1, 0] 0.270531\n",
      "[1, 1, 1, 1] 0.499771\n",
      "[1, 1, 1, 1] 0.499771\n",
      "[1, 1, 1, 0] 0.270531\n",
      "[0, 1, 1, 1] 0.073418\n",
      "[1, 1, 1, 0] 0.270531\n",
      "[1, 0, 1, 0] 0.045162\n",
      "[1, 1, 1, 1] 0.499771\n",
      "[1, 1, 1, 0] 0.270531\n",
      "[1, 1, 1, 0] 0.270531\n",
      "[1, 1, 1, 1] 0.499771\n",
      "[1, 1, 1, 1] 0.499771\n",
      "[1, 1, 1, 0] 0.270531\n",
      "[1, 1, 1, 1] 0.499771\n",
      "[1, 1, 1, 0] 0.270531\n",
      "[1, 0, 1, 0] 0.045162\n",
      "[1, 1, 1, 0] 0.270531\n",
      "[1, 1, 1, 0] 0.270531\n",
      "[1, 1, 1, 1] 0.499771\n",
      "[1, 1, 1, 1] 0.499771\n",
      "[1, 1, 1, 0] 0.270531\n",
      "[1, 1, 1, 0] 0.270531\n",
      "[1, 1, 1, 1] 0.499771\n",
      "[1, 1, 1, 1] 0.499771\n",
      "[1, 1, 1, 0] 0.270531\n",
      "[1, 1, 1, 1] 0.499771\n",
      "[1, 1, 1, 0] 0.270531\n",
      "[1, 1, 1, 1] 0.499771\n",
      "[1, 1, 1, 1] 0.499771\n",
      "[1, 1, 1, 1] 0.499771\n"
     ]
    }
   ],
   "source": [
    "num_samples = 100\n",
    "# for i in range(num_samples):\n",
    "#     print(generate_sample())\n",
    "\n",
    "print(\"+++++++++++++++++++++++++++++++++\")\n",
    "for i in range(num_samples):\n",
    "    #print(generate_sample())\n",
    "    prob, list_sample = generate_prob_sample()\n",
    "    \n",
    "\n",
    "    prob_product = round(np.prod(prob),6)\n",
    "    print(list_sample,prob_product)\n",
    "    #print(\"Probaility Value:\", prob_product)\n"
   ]
  },
  {
   "cell_type": "code",
   "execution_count": 156,
   "metadata": {},
   "outputs": [],
   "source": [
    "import pandas as pd \n",
    "\n",
    "num_samples = 1000\n",
    "def sample_prb(num_samples):\n",
    "   data = []\n",
    "   for i in range(num_samples):\n",
    "        #print(generate_sample())\n",
    "        prob, list_sample = generate_prob_sample()\n",
    "        \n",
    "\n",
    "        prob_product = float(round(np.prod(prob),6))\n",
    "        #print(list_sample,prob_product)\n",
    "        #print(\"Probaility Value:\", prob_product)\n",
    "        data +=[{\"sample\": list_sample, \"prob\": prob_product}]\n",
    "   return data\n",
    "\n",
    "\n",
    "data = sample_prb(num_samples)\n",
    "\n",
    "\n",
    "df = pd.DataFrame(data)\n"
   ]
  },
  {
   "cell_type": "code",
   "execution_count": 157,
   "metadata": {},
   "outputs": [],
   "source": [
    "df.sort_values(\"prob\",ascending=False).to_csv(\"test.csv\",index=False)\n"
   ]
  },
  {
   "cell_type": "code",
   "execution_count": 164,
   "metadata": {},
   "outputs": [
    {
     "data": {
      "text/plain": [
       "(0.000939, [0, 1, 0, 0])"
      ]
     },
     "execution_count": 164,
     "metadata": {},
     "output_type": "execute_result"
    }
   ],
   "source": [
    "def generate_parameters(len_x):\n",
    "    # k -> 2^(k-1) \n",
    "    elements = [0,1]\n",
    "  \n",
    "\n",
    "    dict_parameters = { \"x1\": {() : np.random.uniform(low=0.0, high=1.0, size=None)}}\n",
    "    for k in range(2, len_x+1):\n",
    "        permutations = list(itertools.product(elements, repeat=k-1))\n",
    "        dict_parameters[\"x\"+str(k)] = {}\n",
    "        for j in range(len(permutations)):\n",
    "             dict_parameters[\"x\"+str(k)][permutations[j]] = np.random.uniform(low=0.0, high=1.0, size=None)\n",
    "\n",
    "    return dict_parameters\n",
    "\n",
    "def generate_prob_sample():\n",
    "    list_sample = []\n",
    "    prob = []\n",
    "    for i in range(1, len_x+1):\n",
    "        p = parameters[\"x\"+str(i)][tuple(list_sample)]\n",
    "        sample = np.random.binomial(n=1, p=p)\n",
    "        \n",
    "        if sample == 0:\n",
    "            p = 1-p\n",
    "            prob += [float(p)]\n",
    "        else:\n",
    "            prob += [float(p)]\n",
    "        #print(\"sample\",sample)\n",
    "        list_sample +=[int(sample)]\n",
    "    return prob, list_sample\n",
    "\n",
    "def sample_to_prob(sample):\n",
    "    len_x = len(sample)\n",
    "    list_sample = []\n",
    "    prob = []\n",
    "\n",
    "    for i in range(1, len_x+1):\n",
    "        p = parameters[\"x\"+str(i)][tuple(list_sample)]\n",
    "        list_sample+=[sample[i-1]]\n",
    "        prob+=[((1-sample[i-1]) *(1-p)) + sample[i-1]*p]\n",
    "    prob_product = float(round(np.prod(prob),6))\n",
    "    return prob_product,sample\n",
    "\n",
    "# sample = [0,1,0,0]\n",
    "# sample_to_prob(sample)\n",
    "\n",
    " \n",
    "\n",
    "\n"
   ]
  },
  {
   "cell_type": "code",
   "execution_count": 166,
   "metadata": {},
   "outputs": [],
   "source": [
    "\n",
    "all_poss = list(itertools.product([0,1], repeat=4))\n",
    "\n",
    "for sample in all_poss:\n",
    "    print(sample_to_prob(sample))\n"
   ]
  },
  {
   "cell_type": "code",
   "execution_count": 38,
   "metadata": {},
   "outputs": [],
   "source": [
    "list_values = []\n",
    "n = 10000\n",
    "for i in range(n):\n",
    "    value= torch.bernoulli(p_dist)[0]\n",
    "    list_values+=[int(value)]"
   ]
  },
  {
   "cell_type": "code",
   "execution_count": null,
   "metadata": {},
   "outputs": [],
   "source": [
    "sum(list_values)/n "
   ]
  },
  {
   "cell_type": "code",
   "execution_count": null,
   "metadata": {},
   "outputs": [],
   "source": []
  }
 ],
 "metadata": {
  "kernelspec": {
   "display_name": ".venv",
   "language": "python",
   "name": "python3"
  },
  "language_info": {
   "codemirror_mode": {
    "name": "ipython",
    "version": 3
   },
   "file_extension": ".py",
   "mimetype": "text/x-python",
   "name": "python",
   "nbconvert_exporter": "python",
   "pygments_lexer": "ipython3",
   "version": "3.12.6"
  }
 },
 "nbformat": 4,
 "nbformat_minor": 2
}
